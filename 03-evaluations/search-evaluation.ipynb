{
 "cells": [
  {
   "cell_type": "markdown",
   "id": "25720ec0",
   "metadata": {},
   "source": [
    "## Evaluation data"
   ]
  },
  {
   "cell_type": "code",
   "execution_count": 5,
   "id": "8e87d289",
   "metadata": {},
   "outputs": [],
   "source": [
    "import requests\n",
    "import pandas as pd\n",
    "\n",
    "url_prefix = 'https://raw.githubusercontent.com/DataTalksClub/llm-zoomcamp/main/03-evaluation/'\n",
    "docs_url = url_prefix + 'search_evaluation/documents-with-ids.json'\n",
    "documents = requests.get(docs_url).json()\n",
    "\n",
    "ground_truth_url = url_prefix + 'search_evaluation/ground-truth-data.csv'\n",
    "df_ground_truth = pd.read_csv(ground_truth_url)\n",
    "ground_truth = df_ground_truth.to_dict(orient='records')"
   ]
  },
  {
   "cell_type": "code",
   "execution_count": 2,
   "id": "eaceaa9c",
   "metadata": {},
   "outputs": [
    {
     "data": {
      "text/plain": [
       "[{'text': \"The purpose of this document is to capture frequently asked technical questions\\nThe exact day and hour of the course will be 15th Jan 2024 at 17h00. The course will start with the first  “Office Hours'' live.1\\nSubscribe to course public Google Calendar (it works from Desktop only).\\nRegister before the course starts using this link.\\nJoin the course Telegram channel with announcements.\\nDon’t forget to register in DataTalks.Club's Slack and join the channel.\",\n",
       "  'section': 'General course-related questions',\n",
       "  'question': 'Course - When will the course start?',\n",
       "  'course': 'data-engineering-zoomcamp',\n",
       "  'id': 'c02e79ef'},\n",
       " {'text': 'GitHub - DataTalksClub data-engineering-zoomcamp#prerequisites',\n",
       "  'section': 'General course-related questions',\n",
       "  'question': 'Course - What are the prerequisites for this course?',\n",
       "  'course': 'data-engineering-zoomcamp',\n",
       "  'id': '1f6520ca'},\n",
       " {'text': \"Yes, even if you don't register, you're still eligible to submit the homeworks.\\nBe aware, however, that there will be deadlines for turning in the final projects. So don't leave everything for the last minute.\",\n",
       "  'section': 'General course-related questions',\n",
       "  'question': 'Course - Can I still join the course after the start date?',\n",
       "  'course': 'data-engineering-zoomcamp',\n",
       "  'id': '7842b56a'}]"
      ]
     },
     "execution_count": 2,
     "metadata": {},
     "output_type": "execute_result"
    }
   ],
   "source": [
    "documents[:3]"
   ]
  },
  {
   "cell_type": "code",
   "execution_count": 3,
   "id": "279329f0",
   "metadata": {},
   "outputs": [
    {
     "data": {
      "text/plain": [
       "[{'question': 'When does the course begin?',\n",
       "  'course': 'data-engineering-zoomcamp',\n",
       "  'document': 'c02e79ef'},\n",
       " {'question': 'How can I get the course schedule?',\n",
       "  'course': 'data-engineering-zoomcamp',\n",
       "  'document': 'c02e79ef'},\n",
       " {'question': 'What is the link for course registration?',\n",
       "  'course': 'data-engineering-zoomcamp',\n",
       "  'document': 'c02e79ef'}]"
      ]
     },
     "execution_count": 3,
     "metadata": {},
     "output_type": "execute_result"
    }
   ],
   "source": [
    "ground_truth[:3]"
   ]
  },
  {
   "cell_type": "code",
   "execution_count": 4,
   "id": "42ff027f",
   "metadata": {},
   "outputs": [],
   "source": [
    "from tqdm.auto import tqdm\n",
    "\n",
    "def hit_rate(relevance_total):\n",
    "    cnt = 0\n",
    "\n",
    "    for line in relevance_total:\n",
    "        if True in line:\n",
    "            cnt = cnt + 1\n",
    "\n",
    "    return cnt / len(relevance_total)\n",
    "\n",
    "def mrr(relevance_total):\n",
    "    total_score = 0.0\n",
    "\n",
    "    for line in relevance_total:\n",
    "        for rank in range(len(line)):\n",
    "            if line[rank] == True:\n",
    "                total_score = total_score + 1 / (rank + 1)\n",
    "\n",
    "    return total_score / len(relevance_total)\n",
    "\n",
    "def evaluate(ground_truth, search_function):\n",
    "    relevance_total = []\n",
    "\n",
    "    for q in tqdm(ground_truth):\n",
    "        doc_id = q['document']\n",
    "        results = search_function(q)\n",
    "        relevance = [d['id'] == doc_id for d in results]\n",
    "        relevance_total.append(relevance)\n",
    "\n",
    "    return {\n",
    "        'hit_rate': hit_rate(relevance_total),\n",
    "        'mrr': mrr(relevance_total),\n",
    "    }"
   ]
  },
  {
   "cell_type": "markdown",
   "id": "986bc39a",
   "metadata": {},
   "source": [
    "## Evaluate minsearch"
   ]
  },
  {
   "cell_type": "code",
   "execution_count": 5,
   "id": "469c50ea",
   "metadata": {},
   "outputs": [
    {
     "data": {
      "text/plain": [
       "<minsearch.minsearch.Index at 0x71d2153c90a0>"
      ]
     },
     "execution_count": 5,
     "metadata": {},
     "output_type": "execute_result"
    }
   ],
   "source": [
    "import minsearch\n",
    "\n",
    "index = minsearch.Index(\n",
    "    text_fields=[\"question\", \"text\", \"section\"],\n",
    "    keyword_fields=[\"course\", \"id\"]\n",
    ")\n",
    "\n",
    "index.fit(documents)"
   ]
  },
  {
   "cell_type": "code",
   "execution_count": 6,
   "id": "42ddb0b4",
   "metadata": {},
   "outputs": [],
   "source": [
    "def minsearch_search(query, course, boost={'question': 3.0, 'section': 0.5}):\n",
    "    boost = boost\n",
    "\n",
    "    results = index.search(\n",
    "        query=query,\n",
    "        filter_dict={'course': course},\n",
    "        boost_dict=boost,\n",
    "        num_results=5\n",
    "    )\n",
    "\n",
    "    return results"
   ]
  },
  {
   "cell_type": "code",
   "execution_count": 7,
   "id": "cf6266a5",
   "metadata": {},
   "outputs": [
    {
     "data": {
      "application/vnd.jupyter.widget-view+json": {
       "model_id": "30a322cbb1a1462eb788dce228bace37",
       "version_major": 2,
       "version_minor": 0
      },
      "text/plain": [
       "  0%|          | 0/4627 [00:00<?, ?it/s]"
      ]
     },
     "metadata": {},
     "output_type": "display_data"
    }
   ],
   "source": [
    "boost = {'question': 1.5, 'section': 0.1}\n",
    "\n",
    "minsearch_eval = evaluate(ground_truth, lambda q: minsearch_search(q['question'], q['course'], boost=boost))"
   ]
  },
  {
   "cell_type": "code",
   "execution_count": 8,
   "id": "7ed6b33a",
   "metadata": {},
   "outputs": [
    {
     "name": "stdout",
     "output_type": "stream",
     "text": [
      "Hit Rate: 0.8487\n",
      "MRR: 0.7288\n"
     ]
    }
   ],
   "source": [
    "print(f\"Hit Rate: {minsearch_eval['hit_rate']:.4f}\")\n",
    "print(f\"MRR: {minsearch_eval['mrr']:.4f}\")"
   ]
  },
  {
   "cell_type": "markdown",
   "id": "e1e0ae3f",
   "metadata": {},
   "source": [
    "## Embeddings"
   ]
  },
  {
   "cell_type": "code",
   "execution_count": 9,
   "id": "94497d78",
   "metadata": {},
   "outputs": [],
   "source": [
    "from minsearch import VectorSearch"
   ]
  },
  {
   "cell_type": "code",
   "execution_count": 8,
   "id": "6afb5b4f",
   "metadata": {},
   "outputs": [],
   "source": [
    "from sklearn.feature_extraction.text import TfidfVectorizer\n",
    "from sklearn.decomposition import TruncatedSVD\n",
    "from sklearn.pipeline import make_pipeline"
   ]
  },
  {
   "cell_type": "code",
   "execution_count": 11,
   "id": "691e14ad",
   "metadata": {},
   "outputs": [],
   "source": [
    "texts = []\n",
    "\n",
    "for doc in documents:\n",
    "    t = doc['question']\n",
    "    texts.append(t)"
   ]
  },
  {
   "cell_type": "code",
   "execution_count": 12,
   "id": "05c94440",
   "metadata": {},
   "outputs": [],
   "source": [
    "pipeline = make_pipeline(\n",
    "    TfidfVectorizer(min_df=3),\n",
    "    TruncatedSVD(n_components=128, random_state=1)\n",
    ")\n",
    "\n",
    "X = pipeline.fit_transform(texts)"
   ]
  },
  {
   "cell_type": "code",
   "execution_count": 13,
   "id": "965e89e0",
   "metadata": {},
   "outputs": [
    {
     "data": {
      "text/plain": [
       "<minsearch.vector.VectorSearch at 0x71d1e1c46480>"
      ]
     },
     "execution_count": 13,
     "metadata": {},
     "output_type": "execute_result"
    }
   ],
   "source": [
    "vindex = VectorSearch(keyword_fields={'course'})\n",
    "vindex.fit(X, documents)"
   ]
  },
  {
   "cell_type": "code",
   "execution_count": 14,
   "id": "6897d9fe",
   "metadata": {},
   "outputs": [],
   "source": [
    "def minsearch_vector_search(vector_index, query, course):\n",
    "    query_vector = pipeline.transform([query])\n",
    "    \n",
    "    results = vector_index.search(\n",
    "        query_vector,\n",
    "        filter_dict={'course': course},\n",
    "        num_results=5\n",
    "    )\n",
    "    \n",
    "    return results"
   ]
  },
  {
   "cell_type": "code",
   "execution_count": 15,
   "id": "3264e7d0",
   "metadata": {},
   "outputs": [
    {
     "data": {
      "application/vnd.jupyter.widget-view+json": {
       "model_id": "bac4b98898a04fd48051ab5161dd0130",
       "version_major": 2,
       "version_minor": 0
      },
      "text/plain": [
       "  0%|          | 0/4627 [00:00<?, ?it/s]"
      ]
     },
     "metadata": {},
     "output_type": "display_data"
    },
    {
     "name": "stdout",
     "output_type": "stream",
     "text": [
      "Hit Rate: 0.4817\n",
      "MRR: 0.3571\n"
     ]
    }
   ],
   "source": [
    "vector_eval = evaluate(ground_truth, lambda q: minsearch_vector_search(vindex, q['question'], q['course']))\n",
    "\n",
    "print(f\"Hit Rate: {vector_eval['hit_rate']:.4f}\")\n",
    "print(f\"MRR: {vector_eval['mrr']:.4f}\")"
   ]
  },
  {
   "cell_type": "markdown",
   "id": "96becfb0",
   "metadata": {},
   "source": [
    "## Vector search for question and answer"
   ]
  },
  {
   "cell_type": "code",
   "execution_count": 16,
   "id": "5ce7dbf7",
   "metadata": {},
   "outputs": [],
   "source": [
    "texts = []\n",
    "\n",
    "for doc in documents:\n",
    "    t = doc['question'] + ' ' + doc['text']\n",
    "    texts.append(t)"
   ]
  },
  {
   "cell_type": "code",
   "execution_count": 17,
   "id": "04fd8380",
   "metadata": {},
   "outputs": [
    {
     "data": {
      "text/plain": [
       "<minsearch.vector.VectorSearch at 0x71d1f1efb860>"
      ]
     },
     "execution_count": 17,
     "metadata": {},
     "output_type": "execute_result"
    }
   ],
   "source": [
    "X = pipeline.fit_transform(texts)\n",
    "\n",
    "vindex = VectorSearch(keyword_fields={'course'})\n",
    "vindex.fit(X, documents)"
   ]
  },
  {
   "cell_type": "code",
   "execution_count": 18,
   "id": "9161c6c5",
   "metadata": {},
   "outputs": [
    {
     "data": {
      "application/vnd.jupyter.widget-view+json": {
       "model_id": "0a231442141143bdbb5f4f292e2455e5",
       "version_major": 2,
       "version_minor": 0
      },
      "text/plain": [
       "  0%|          | 0/4627 [00:00<?, ?it/s]"
      ]
     },
     "metadata": {},
     "output_type": "display_data"
    },
    {
     "name": "stdout",
     "output_type": "stream",
     "text": [
      "Hit Rate: 0.8211\n",
      "MRR: 0.6718\n"
     ]
    }
   ],
   "source": [
    "upd_vector_eval = evaluate(ground_truth, lambda q: minsearch_vector_search(vindex, q['question'], q['course']))\n",
    "\n",
    "print(f\"Hit Rate: {upd_vector_eval['hit_rate']:.4f}\")\n",
    "print(f\"MRR: {upd_vector_eval['mrr']:.4f}\")"
   ]
  },
  {
   "cell_type": "markdown",
   "id": "43795282",
   "metadata": {},
   "source": [
    "## Qdrant"
   ]
  },
  {
   "cell_type": "code",
   "execution_count": 19,
   "id": "68a3259b",
   "metadata": {},
   "outputs": [],
   "source": [
    "model_handle = \"jinaai/jina-embeddings-v2-small-en\""
   ]
  },
  {
   "cell_type": "code",
   "execution_count": null,
   "id": "cfcf9b2e",
   "metadata": {},
   "outputs": [],
   "source": [
    "from qdrant_client import QdrantClient, models"
   ]
  },
  {
   "cell_type": "code",
   "execution_count": null,
   "id": "bc96ad0c",
   "metadata": {},
   "outputs": [],
   "source": [
    "\n",
    "client = QdrantClient(\"http://localhost:6333\")\n",
    "\n",
    "collection_name = 'evaluation-search'\n",
    "\n",
    "if not client.collection_exists(collection_name):\n",
    "    client.create_collection(\n",
    "        collection_name=collection_name,\n",
    "        vectors_config=models.VectorParams(\n",
    "            size=512,\n",
    "            distance=models.Distance.COSINE,\n",
    "        )\n",
    "    )"
   ]
  },
  {
   "cell_type": "code",
   "execution_count": 30,
   "id": "d5c56e8f",
   "metadata": {},
   "outputs": [],
   "source": [
    "def qdrant_search(query, course, limit=1):\n",
    "    results = client.query_points(\n",
    "        collection_name=collection_name,\n",
    "        query=models.Document(\n",
    "            text=query,\n",
    "            model=model_handle \n",
    "        ),\n",
    "        limit=limit,\n",
    "        with_payload=True,\n",
    "        query_filter=models.Filter(\n",
    "            must=[\n",
    "                models.FieldCondition(\n",
    "                    key=\"course\",\n",
    "                    match=models.MatchValue(value=course)\n",
    "                )\n",
    "            ])\n",
    "    )\n",
    "    return [point.payload for point in results.points]"
   ]
  },
  {
   "cell_type": "code",
   "execution_count": null,
   "id": "0ff39928",
   "metadata": {},
   "outputs": [
    {
     "data": {
      "text/plain": [
       "UpdateResult(operation_id=0, status=<UpdateStatus.COMPLETED: 'completed'>)"
      ]
     },
     "execution_count": 23,
     "metadata": {},
     "output_type": "execute_result"
    }
   ],
   "source": [
    "if not client.collection_exists(collection_name):\n",
    "    client.upsert(\n",
    "        collection_name=collection_name,\n",
    "        points=[\n",
    "            models.PointStruct(\n",
    "                id=idx,\n",
    "                vector=models.Document(text=doc['question'] + ' ' + doc['text'], model=model_handle),\n",
    "                payload={\n",
    "                    \"text\": doc['text'],\n",
    "                    \"section\": doc['section'],\n",
    "                    \"question\": doc['question'],\n",
    "                    \"course\": doc['course'],\n",
    "                    \"id\": doc['id']\n",
    "                }\n",
    "            )\n",
    "            for idx, doc in enumerate(documents)\n",
    "        ]\n",
    "    )"
   ]
  },
  {
   "cell_type": "code",
   "execution_count": 32,
   "id": "c5826ab5",
   "metadata": {},
   "outputs": [
    {
     "data": {
      "application/vnd.jupyter.widget-view+json": {
       "model_id": "50b7901b49054712a2afa4979ca4004a",
       "version_major": 2,
       "version_minor": 0
      },
      "text/plain": [
       "  0%|          | 0/4627 [00:00<?, ?it/s]"
      ]
     },
     "metadata": {},
     "output_type": "display_data"
    }
   ],
   "source": [
    "qdrant_eval = evaluate(ground_truth, lambda q: qdrant_search(q['question'], q['course'], limit=5))"
   ]
  },
  {
   "cell_type": "code",
   "execution_count": null,
   "id": "b20898cd",
   "metadata": {},
   "outputs": [
    {
     "name": "stdout",
     "output_type": "stream",
     "text": [
      "Hit Rate: 0.9300\n",
      "MRR: 0.8518\n"
     ]
    },
    {
     "ename": "",
     "evalue": "",
     "output_type": "error",
     "traceback": [
      "\u001b[1;31mThe Kernel crashed while executing code in the current cell or a previous cell. \n",
      "\u001b[1;31mPlease review the code in the cell(s) to identify a possible cause of the failure. \n",
      "\u001b[1;31mClick <a href='https://aka.ms/vscodeJupyterKernelCrash'>here</a> for more info. \n",
      "\u001b[1;31mView Jupyter <a href='command:jupyter.viewOutput'>log</a> for further details."
     ]
    }
   ],
   "source": [
    "print(f\"Hit Rate: {qdrant_eval['hit_rate']:.4f}\")\n",
    "print(f\"MRR: {qdrant_eval['mrr']:.4f}\")"
   ]
  },
  {
   "cell_type": "markdown",
   "id": "4dff3faa",
   "metadata": {},
   "source": [
    "## Cosine simiarity"
   ]
  },
  {
   "cell_type": "code",
   "execution_count": 2,
   "id": "a25fd150",
   "metadata": {},
   "outputs": [],
   "source": [
    "import numpy as np"
   ]
  },
  {
   "cell_type": "code",
   "execution_count": 3,
   "id": "6ff1fe26",
   "metadata": {},
   "outputs": [],
   "source": [
    "def normalize(u):\n",
    "    norm = np.sqrt(u.dot(u))\n",
    "    return u / norm\n",
    "\n",
    "def cosine(u, v):\n",
    "    u = normalize(u)\n",
    "    v = normalize(v)\n",
    "    return u.dot(v)"
   ]
  },
  {
   "cell_type": "code",
   "execution_count": 6,
   "id": "9fb9466e",
   "metadata": {},
   "outputs": [],
   "source": [
    "results_url = url_prefix + 'rag_evaluation/data/results-gpt4o-mini.csv'\n",
    "df_results = pd.read_csv(results_url)"
   ]
  },
  {
   "cell_type": "code",
   "execution_count": 14,
   "id": "9659f065",
   "metadata": {},
   "outputs": [
    {
     "data": {
      "text/html": [
       "<div>\n",
       "<style scoped>\n",
       "    .dataframe tbody tr th:only-of-type {\n",
       "        vertical-align: middle;\n",
       "    }\n",
       "\n",
       "    .dataframe tbody tr th {\n",
       "        vertical-align: top;\n",
       "    }\n",
       "\n",
       "    .dataframe thead th {\n",
       "        text-align: right;\n",
       "    }\n",
       "</style>\n",
       "<table border=\"1\" class=\"dataframe\">\n",
       "  <thead>\n",
       "    <tr style=\"text-align: right;\">\n",
       "      <th></th>\n",
       "      <th>answer_llm</th>\n",
       "      <th>answer_orig</th>\n",
       "      <th>document</th>\n",
       "      <th>question</th>\n",
       "      <th>course</th>\n",
       "    </tr>\n",
       "  </thead>\n",
       "  <tbody>\n",
       "    <tr>\n",
       "      <th>506</th>\n",
       "      <td>To handle numerical features when training a R...</td>\n",
       "      <td>When encountering convergence errors during th...</td>\n",
       "      <td>f625307b</td>\n",
       "      <td>How should I handle numerical features when tr...</td>\n",
       "      <td>machine-learning-zoomcamp</td>\n",
       "    </tr>\n",
       "    <tr>\n",
       "      <th>1199</th>\n",
       "      <td>Yes, the folder name determines the class in K...</td>\n",
       "      <td>Problem:\\nWhen we run train_gen.flow_from_dire...</td>\n",
       "      <td>f20a3479</td>\n",
       "      <td>Does the folder name determine the class in ke...</td>\n",
       "      <td>machine-learning-zoomcamp</td>\n",
       "    </tr>\n",
       "    <tr>\n",
       "      <th>743</th>\n",
       "      <td>You should use the `scikit-learn` library to i...</td>\n",
       "      <td>We can import precision_recall_curve from scik...</td>\n",
       "      <td>cc04d27a</td>\n",
       "      <td>What library should I use to import precision_...</td>\n",
       "      <td>machine-learning-zoomcamp</td>\n",
       "    </tr>\n",
       "    <tr>\n",
       "      <th>681</th>\n",
       "      <td>The solution to use `predict_proba(X)[:,1]` in...</td>\n",
       "      <td>In case of using predict(X) for this task we a...</td>\n",
       "      <td>3af31e2a</td>\n",
       "      <td>Who provided the solution to use predict_proba...</td>\n",
       "      <td>machine-learning-zoomcamp</td>\n",
       "    </tr>\n",
       "    <tr>\n",
       "      <th>1151</th>\n",
       "      <td>Yes, you can use the same method to install ot...</td>\n",
       "      <td>The above error happens since module scipy is ...</td>\n",
       "      <td>346e799a</td>\n",
       "      <td>Can I use the same method to install other pac...</td>\n",
       "      <td>machine-learning-zoomcamp</td>\n",
       "    </tr>\n",
       "  </tbody>\n",
       "</table>\n",
       "</div>"
      ],
      "text/plain": [
       "                                             answer_llm  \\\n",
       "506   To handle numerical features when training a R...   \n",
       "1199  Yes, the folder name determines the class in K...   \n",
       "743   You should use the `scikit-learn` library to i...   \n",
       "681   The solution to use `predict_proba(X)[:,1]` in...   \n",
       "1151  Yes, you can use the same method to install ot...   \n",
       "\n",
       "                                            answer_orig  document  \\\n",
       "506   When encountering convergence errors during th...  f625307b   \n",
       "1199  Problem:\\nWhen we run train_gen.flow_from_dire...  f20a3479   \n",
       "743   We can import precision_recall_curve from scik...  cc04d27a   \n",
       "681   In case of using predict(X) for this task we a...  3af31e2a   \n",
       "1151  The above error happens since module scipy is ...  346e799a   \n",
       "\n",
       "                                               question  \\\n",
       "506   How should I handle numerical features when tr...   \n",
       "1199  Does the folder name determine the class in ke...   \n",
       "743   What library should I use to import precision_...   \n",
       "681   Who provided the solution to use predict_proba...   \n",
       "1151  Can I use the same method to install other pac...   \n",
       "\n",
       "                         course  \n",
       "506   machine-learning-zoomcamp  \n",
       "1199  machine-learning-zoomcamp  \n",
       "743   machine-learning-zoomcamp  \n",
       "681   machine-learning-zoomcamp  \n",
       "1151  machine-learning-zoomcamp  "
      ]
     },
     "execution_count": 14,
     "metadata": {},
     "output_type": "execute_result"
    }
   ],
   "source": [
    "df_results.sample(5)"
   ]
  },
  {
   "cell_type": "code",
   "execution_count": 9,
   "id": "1103718b",
   "metadata": {},
   "outputs": [],
   "source": [
    "pipeline = make_pipeline(\n",
    "    TfidfVectorizer(min_df=3),\n",
    "    TruncatedSVD(n_components=128, random_state=1)\n",
    ")"
   ]
  },
  {
   "cell_type": "code",
   "execution_count": 11,
   "id": "2f52c9fe",
   "metadata": {},
   "outputs": [],
   "source": [
    "X = pipeline.fit(df_results.answer_llm + ' ' + df_results.answer_orig + ' ' + df_results.question)"
   ]
  },
  {
   "cell_type": "code",
   "execution_count": 15,
   "id": "6331cf9a",
   "metadata": {},
   "outputs": [
    {
     "data": {
      "text/plain": [
       "[{'answer_llm': 'You can sign up for the course by visiting the course page at [http://mlzoomcamp.com/](http://mlzoomcamp.com/).',\n",
       "  'answer_orig': 'Machine Learning Zoomcamp FAQ\\nThe purpose of this document is to capture frequently asked technical questions.\\nWe did this for our data engineering course and it worked quite well. Check this document for inspiration on how to structure your questions and answers:\\nData Engineering Zoomcamp FAQ\\nIn the course GitHub repository there’s a link. Here it is: https://airtable.com/shryxwLd0COOEaqXo\\nwork',\n",
       "  'document': '0227b872',\n",
       "  'question': 'Where can I sign up for the course?',\n",
       "  'course': 'machine-learning-zoomcamp'},\n",
       " {'answer_llm': 'You can sign up using the link provided in the course GitHub repository: [https://airtable.com/shryxwLd0COOEaqXo](https://airtable.com/shryxwLd0COOEaqXo).',\n",
       "  'answer_orig': 'Machine Learning Zoomcamp FAQ\\nThe purpose of this document is to capture frequently asked technical questions.\\nWe did this for our data engineering course and it worked quite well. Check this document for inspiration on how to structure your questions and answers:\\nData Engineering Zoomcamp FAQ\\nIn the course GitHub repository there’s a link. Here it is: https://airtable.com/shryxwLd0COOEaqXo\\nwork',\n",
       "  'document': '0227b872',\n",
       "  'question': 'Can you provide a link to sign up?',\n",
       "  'course': 'machine-learning-zoomcamp'},\n",
       " {'answer_llm': 'Yes, there is an FAQ for the Machine Learning course. It addresses frequently asked technical questions and is available in the course GitHub repository. You can find the link to the FAQ [here](https://airtable.com/shryxwLd0COOEaqXo).',\n",
       "  'answer_orig': 'Machine Learning Zoomcamp FAQ\\nThe purpose of this document is to capture frequently asked technical questions.\\nWe did this for our data engineering course and it worked quite well. Check this document for inspiration on how to structure your questions and answers:\\nData Engineering Zoomcamp FAQ\\nIn the course GitHub repository there’s a link. Here it is: https://airtable.com/shryxwLd0COOEaqXo\\nwork',\n",
       "  'document': '0227b872',\n",
       "  'question': 'Is there an FAQ for this Machine Learning course?',\n",
       "  'course': 'machine-learning-zoomcamp'}]"
      ]
     },
     "execution_count": 15,
     "metadata": {},
     "output_type": "execute_result"
    }
   ],
   "source": [
    "answer_comparison = df_results.to_dict(orient='records')\n",
    "\n",
    "answer_comparison[:3]"
   ]
  },
  {
   "cell_type": "code",
   "execution_count": 23,
   "id": "cf05a556",
   "metadata": {},
   "outputs": [],
   "source": [
    "cosine_scores = []"
   ]
  },
  {
   "cell_type": "code",
   "execution_count": 24,
   "id": "5cb90eb0",
   "metadata": {},
   "outputs": [],
   "source": [
    "for ans in answer_comparison:\n",
    "    v_llm = pipeline.transform([ans['answer_llm']])[0]\n",
    "    v_orig = pipeline.transform([ans['answer_orig']])[0]\n",
    "\n",
    "    score = cosine(v_llm, v_orig)\n",
    "    cosine_scores.append(score)"
   ]
  },
  {
   "cell_type": "code",
   "execution_count": null,
   "id": "d90d99ce",
   "metadata": {},
   "outputs": [
    {
     "name": "stdout",
     "output_type": "stream",
     "text": [
      "Mean Cosine Similarity: 0.8416\n"
     ]
    }
   ],
   "source": [
    "mean_score = sum(cosine_scores) / len(cosine_scores)\n",
    "print(f\"Average Cosine Similarity: {mean_score:.4f}\")"
   ]
  },
  {
   "cell_type": "markdown",
   "id": "c3b6c85c",
   "metadata": {},
   "source": [
    "## Rouge"
   ]
  },
  {
   "cell_type": "code",
   "execution_count": 29,
   "id": "b178a7ae",
   "metadata": {},
   "outputs": [],
   "source": [
    "from rouge import Rouge\n",
    "rouge_scorer = Rouge()"
   ]
  },
  {
   "cell_type": "code",
   "execution_count": 30,
   "id": "c4a79fcb",
   "metadata": {},
   "outputs": [
    {
     "data": {
      "text/plain": [
       "{'rouge-1': {'r': 0.45454545454545453,\n",
       "  'p': 0.45454545454545453,\n",
       "  'f': 0.45454544954545456},\n",
       " 'rouge-2': {'r': 0.21621621621621623,\n",
       "  'p': 0.21621621621621623,\n",
       "  'f': 0.21621621121621637},\n",
       " 'rouge-l': {'r': 0.3939393939393939,\n",
       "  'p': 0.3939393939393939,\n",
       "  'f': 0.393939388939394}}"
      ]
     },
     "execution_count": 30,
     "metadata": {},
     "output_type": "execute_result"
    }
   ],
   "source": [
    "r = df_results.iloc[10]\n",
    "scores = rouge_scorer.get_scores(r.answer_llm, r.answer_orig)[0]\n",
    "scores"
   ]
  },
  {
   "cell_type": "code",
   "execution_count": 34,
   "id": "0ed21cfd",
   "metadata": {},
   "outputs": [],
   "source": [
    "rouge_scores = []"
   ]
  },
  {
   "cell_type": "code",
   "execution_count": 35,
   "id": "e571de3e",
   "metadata": {},
   "outputs": [],
   "source": [
    "for ans in answer_comparison:\n",
    "    score = rouge_scorer.get_scores(ans['answer_llm'], ans['answer_orig'])[0]['rouge-1']['f'] \n",
    "    rouge_scores.append(score)"
   ]
  },
  {
   "cell_type": "code",
   "execution_count": 36,
   "id": "30a5eaff",
   "metadata": {},
   "outputs": [
    {
     "name": "stdout",
     "output_type": "stream",
     "text": [
      "Average Rouge Similarity: 0.3517\n"
     ]
    }
   ],
   "source": [
    "mean_score = sum(rouge_scores) / len(rouge_scores)\n",
    "print(f\"Average Rouge Similarity: {mean_score:.4f}\")"
   ]
  }
 ],
 "metadata": {
  "kernelspec": {
   "display_name": "Python 3",
   "language": "python",
   "name": "python3"
  },
  "language_info": {
   "codemirror_mode": {
    "name": "ipython",
    "version": 3
   },
   "file_extension": ".py",
   "mimetype": "text/x-python",
   "name": "python",
   "nbconvert_exporter": "python",
   "pygments_lexer": "ipython3",
   "version": "3.12.1"
  }
 },
 "nbformat": 4,
 "nbformat_minor": 5
}
