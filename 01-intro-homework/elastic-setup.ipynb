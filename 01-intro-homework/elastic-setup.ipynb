{
 "cells": [
  {
   "cell_type": "markdown",
   "id": "f2feb81c",
   "metadata": {},
   "source": [
    "## Getting the data "
   ]
  },
  {
   "cell_type": "code",
   "execution_count": 1,
   "id": "d54ff45f",
   "metadata": {},
   "outputs": [],
   "source": [
    "import requests \n",
    "\n",
    "docs_url = 'https://github.com/DataTalksClub/llm-zoomcamp/blob/main/01-intro/documents.json?raw=1'\n",
    "docs_response = requests.get(docs_url)\n",
    "documents_raw = docs_response.json()\n",
    "\n",
    "documents = []\n",
    "\n",
    "for course in documents_raw:\n",
    "    course_name = course['course']\n",
    "\n",
    "    for doc in course['documents']:\n",
    "        doc['course'] = course_name\n",
    "        documents.append(doc)"
   ]
  },
  {
   "cell_type": "code",
   "execution_count": 2,
   "id": "ce86507f",
   "metadata": {},
   "outputs": [
    {
     "data": {
      "text/plain": [
       "{'text': \"The purpose of this document is to capture frequently asked technical questions\\nThe exact day and hour of the course will be 15th Jan 2024 at 17h00. The course will start with the first  “Office Hours'' live.1\\nSubscribe to course public Google Calendar (it works from Desktop only).\\nRegister before the course starts using this link.\\nJoin the course Telegram channel with announcements.\\nDon’t forget to register in DataTalks.Club's Slack and join the channel.\",\n",
       " 'section': 'General course-related questions',\n",
       " 'question': 'Course - When will the course start?',\n",
       " 'course': 'data-engineering-zoomcamp'}"
      ]
     },
     "execution_count": 2,
     "metadata": {},
     "output_type": "execute_result"
    }
   ],
   "source": [
    "documents[0]"
   ]
  },
  {
   "cell_type": "markdown",
   "id": "a1761eee",
   "metadata": {},
   "source": [
    "## Indexing the data"
   ]
  },
  {
   "cell_type": "code",
   "execution_count": 3,
   "id": "5fb07143",
   "metadata": {},
   "outputs": [],
   "source": [
    "from elasticsearch import Elasticsearch"
   ]
  },
  {
   "cell_type": "code",
   "execution_count": 4,
   "id": "4e8adb95",
   "metadata": {},
   "outputs": [],
   "source": [
    "es_client = Elasticsearch('http://localhost:9200') "
   ]
  },
  {
   "cell_type": "code",
   "execution_count": 6,
   "id": "3cb8f5da",
   "metadata": {},
   "outputs": [
    {
     "name": "stdout",
     "output_type": "stream",
     "text": [
      "{'name': '6765ad3ed5c0', 'cluster_name': 'docker-cluster', 'cluster_uuid': 'aSk8cs3HQea3ORfeU11Low', 'version': {'number': '9.0.1', 'build_flavor': 'default', 'build_type': 'docker', 'build_hash': '73f7594ea00db50aa7e941e151a5b3985f01e364', 'build_date': '2025-04-30T10:07:41.393025990Z', 'build_snapshot': False, 'lucene_version': '10.1.0', 'minimum_wire_compatibility_version': '8.18.0', 'minimum_index_compatibility_version': '8.0.0'}, 'tagline': 'You Know, for Search'}\n"
     ]
    }
   ],
   "source": [
    "print(es_client.info())"
   ]
  },
  {
   "cell_type": "code",
   "execution_count": 7,
   "id": "1cd47a0b",
   "metadata": {},
   "outputs": [],
   "source": [
    "index_settings = {\n",
    "    \"settings\": {\n",
    "        \"number_of_shards\": 1,\n",
    "        \"number_of_replicas\": 0\n",
    "    },\n",
    "    \"mappings\": {\n",
    "        \"properties\": {\n",
    "            \"text\": {\"type\": \"text\"},\n",
    "            \"section\": {\"type\": \"text\"},\n",
    "            \"question\": {\"type\": \"text\"},\n",
    "            \"course\": {\"type\": \"keyword\"} \n",
    "        }\n",
    "    }\n",
    "}\n",
    "\n",
    "index_name = \"course-questions\""
   ]
  },
  {
   "cell_type": "code",
   "execution_count": 8,
   "id": "42a0b3ec",
   "metadata": {},
   "outputs": [
    {
     "data": {
      "text/plain": [
       "ObjectApiResponse({'acknowledged': True, 'shards_acknowledged': True, 'index': 'course-questions'})"
      ]
     },
     "execution_count": 8,
     "metadata": {},
     "output_type": "execute_result"
    }
   ],
   "source": [
    "es_client.indices.create(index=index_name, body=index_settings)"
   ]
  },
  {
   "cell_type": "markdown",
   "id": "14934a73",
   "metadata": {},
   "source": [
    "## Indexing the data"
   ]
  },
  {
   "cell_type": "code",
   "execution_count": 9,
   "id": "508cb6e6",
   "metadata": {},
   "outputs": [],
   "source": [
    "from tqdm.auto import tqdm"
   ]
  },
  {
   "cell_type": "code",
   "execution_count": 10,
   "id": "8e09add6",
   "metadata": {},
   "outputs": [
    {
     "data": {
      "application/vnd.jupyter.widget-view+json": {
       "model_id": "4917887825e84f598a9c8a540e5824ae",
       "version_major": 2,
       "version_minor": 0
      },
      "text/plain": [
       "  0%|          | 0/948 [00:00<?, ?it/s]"
      ]
     },
     "metadata": {},
     "output_type": "display_data"
    }
   ],
   "source": [
    "for doc in tqdm(documents):\n",
    "    es_client.index(index=index_name, document=doc)"
   ]
  },
  {
   "cell_type": "markdown",
   "id": "10c13978",
   "metadata": {},
   "source": [
    "## Searching the data"
   ]
  },
  {
   "cell_type": "code",
   "execution_count": 11,
   "id": "591e0a8e",
   "metadata": {},
   "outputs": [],
   "source": [
    "def elastic_search(query: str, n_response:int = 5, course: str | None = None):\n",
    "    search_query = {\n",
    "        \"size\": n_response,\n",
    "        \"query\": {\n",
    "            \"bool\": {\n",
    "                \"must\": {\n",
    "                    \"multi_match\": {\n",
    "                        \"query\": query,\n",
    "                        \"fields\": [\"question^4\", \"text\"],\n",
    "                        \"type\": \"best_fields\"\n",
    "                    }\n",
    "                }\n",
    "            }\n",
    "        }\n",
    "    }\n",
    "\n",
    "    if course:\n",
    "        search_query['query']['bool']['filter'] = {'term' : {'course' : course}}\n",
    "\n",
    "    response = es_client.search(index=index_name, body=search_query)\n",
    "\n",
    "    return response"
   ]
  },
  {
   "cell_type": "code",
   "execution_count": 12,
   "id": "ff9e02f4",
   "metadata": {},
   "outputs": [
    {
     "name": "stdout",
     "output_type": "stream",
     "text": [
      "{'took': 214, 'timed_out': False, '_shards': {'total': 1, 'successful': 1, 'skipped': 0, 'failed': 0}, 'hits': {'total': {'value': 739, 'relation': 'eq'}, 'max_score': 44.50556, 'hits': [{'_index': 'course-questions', '_id': '1NqOVZcBMUP3z-vrc3XN', '_score': 44.50556, '_source': {'text': 'Launch the container image in interactive mode and overriding the entrypoint, so that it starts a bash command.\\ndocker run -it --entrypoint bash <image>\\nIf the container is already running, execute a command in the specific container:\\ndocker ps (find the container-id)\\ndocker exec -it <container-id> bash\\n(Marcos MJD)', 'section': '5. Deploying Machine Learning Models', 'question': 'How do I debug a docker container?', 'course': 'machine-learning-zoomcamp'}}, {'_index': 'course-questions', '_id': 'Y9qOVZcBMUP3z-vrdXb2', '_score': 35.433445, '_source': {'text': 'Deploy and Access the Kubernetes Dashboard\\nLuke', 'section': '10. Kubernetes and TensorFlow Serving', 'question': 'Kubernetes-dashboard', 'course': 'machine-learning-zoomcamp'}}, {'_index': 'course-questions', '_id': '9NqOVZcBMUP3z-vrdHVS', '_score': 33.70974, '_source': {'text': 'You can copy files from your local machine into a Docker container using the docker cp command. Here\\'s how to do it:\\nIn the Dockerfile, you can provide the folder containing the files that you want to copy over. The basic syntax is as follows:\\nCOPY [\"src/predict.py\", \"models/xgb_model.bin\", \"./\"]\\t\\t\\t\\t\\t\\t\\t\\t\\t\\t\\tGopakumar Gopinathan', 'section': '5. Deploying Machine Learning Models', 'question': 'How do I copy files from a different folder into docker container’s working directory?', 'course': 'machine-learning-zoomcamp'}}, {'_index': 'course-questions', '_id': '49qOVZcBMUP3z-vrdHUE', '_score': 33.2635, '_source': {'text': 'Problem description:\\nI started a web-server in terminal (command window, powershell, etc.). How can I run another python script, which makes a request to this server?\\nSolution description:\\nJust open another terminal (command window, powershell, etc.) and run a python script.\\nAlena Kniazeva', 'section': '5. Deploying Machine Learning Models', 'question': 'How to run a script while a web-server is working?', 'course': 'machine-learning-zoomcamp'}}, {'_index': 'course-questions', '_id': 'ttqOVZcBMUP3z-vrc3Vc', '_score': 32.589073, '_source': {'text': \"Matplotlib has a cool method to annotate where you could provide an X,Y point and annotate with an arrow and text. For example this will show an arrow pointing to the x,y point optimal threshold.\\nplt.annotate(f'Optimal Threshold: {optimal_threshold:.2f}\\\\nOptimal F1 Score: {optimal_f1_score:.2f}',\\nxy=(optimal_threshold, optimal_f1_score),\\nxytext=(0.3, 0.5),\\ntextcoords='axes fraction',\\narrowprops=dict(facecolor='black', shrink=0.05))\\nQuinn Avila\", 'section': '4. Evaluation Metrics for Classification', 'question': 'How can I annotate a graph?', 'course': 'machine-learning-zoomcamp'}}]}}\n"
     ]
    }
   ],
   "source": [
    "query = \"How do execute a command on a Kubernetes pod?\"\n",
    "\n",
    "response = elastic_search(query)\n",
    "\n",
    "print(response)"
   ]
  },
  {
   "cell_type": "code",
   "execution_count": 18,
   "id": "975894f6",
   "metadata": {},
   "outputs": [
    {
     "name": "stdout",
     "output_type": "stream",
     "text": [
      "Max score: 73.38676\n"
     ]
    }
   ],
   "source": [
    "print(\"Max score:\", response['hits']['max_score'])"
   ]
  },
  {
   "cell_type": "code",
   "execution_count": 14,
   "id": "bde5ec6f",
   "metadata": {},
   "outputs": [
    {
     "name": "stdout",
     "output_type": "stream",
     "text": [
      "{\n",
      "  \"took\": 14,\n",
      "  \"timed_out\": false,\n",
      "  \"_shards\": {\n",
      "    \"total\": 1,\n",
      "    \"successful\": 1,\n",
      "    \"skipped\": 0,\n",
      "    \"failed\": 0\n",
      "  },\n",
      "  \"hits\": {\n",
      "    \"total\": {\n",
      "      \"value\": 340,\n",
      "      \"relation\": \"eq\"\n",
      "    },\n",
      "    \"max_score\": 73.38676,\n",
      "    \"hits\": [\n",
      "      {\n",
      "        \"_index\": \"course-questions\",\n",
      "        \"_id\": \"1NqOVZcBMUP3z-vrc3XN\",\n",
      "        \"_score\": 73.38676,\n",
      "        \"_source\": {\n",
      "          \"text\": \"Launch the container image in interactive mode and overriding the entrypoint, so that it starts a bash command.\\ndocker run -it --entrypoint bash <image>\\nIf the container is already running, execute a command in the specific container:\\ndocker ps (find the container-id)\\ndocker exec -it <container-id> bash\\n(Marcos MJD)\",\n",
      "          \"section\": \"5. Deploying Machine Learning Models\",\n",
      "          \"question\": \"How do I debug a docker container?\",\n",
      "          \"course\": \"machine-learning-zoomcamp\"\n",
      "        }\n",
      "      },\n",
      "      {\n",
      "        \"_index\": \"course-questions\",\n",
      "        \"_id\": \"89qOVZcBMUP3z-vrdHVJ\",\n",
      "        \"_score\": 66.688705,\n",
      "        \"_source\": {\n",
      "          \"text\": \"You can copy files from your local machine into a Docker container using the docker cp command. Here's how to do it:\\nTo copy a file or directory from your local machine into a running Docker container, you can use the `docker cp command`. The basic syntax is as follows:\\ndocker cp /path/to/local/file_or_directory container_id:/path/in/container\\nHrithik Kumar Advani\",\n",
      "          \"section\": \"5. Deploying Machine Learning Models\",\n",
      "          \"question\": \"How do I copy files from my local machine to docker container?\",\n",
      "          \"course\": \"machine-learning-zoomcamp\"\n",
      "        }\n",
      "      },\n",
      "      {\n",
      "        \"_index\": \"course-questions\",\n",
      "        \"_id\": \"9NqOVZcBMUP3z-vrdHVS\",\n",
      "        \"_score\": 59.812744,\n",
      "        \"_source\": {\n",
      "          \"text\": \"You can copy files from your local machine into a Docker container using the docker cp command. Here's how to do it:\\nIn the Dockerfile, you can provide the folder containing the files that you want to copy over. The basic syntax is as follows:\\nCOPY [\\\"src/predict.py\\\", \\\"models/xgb_model.bin\\\", \\\"./\\\"]\\t\\t\\t\\t\\t\\t\\t\\t\\t\\t\\tGopakumar Gopinathan\",\n",
      "          \"section\": \"5. Deploying Machine Learning Models\",\n",
      "          \"question\": \"How do I copy files from a different folder into docker container\\u2019s working directory?\",\n",
      "          \"course\": \"machine-learning-zoomcamp\"\n",
      "        }\n",
      "      }\n",
      "    ]\n",
      "  }\n",
      "}\n"
     ]
    }
   ],
   "source": [
    "query = \"How do copy a file to a Docker container?\"\n",
    "\n",
    "course = \"machine-learning-zoomcamp\"\n",
    "\n",
    "n_response = 3\n",
    "\n",
    "response = elastic_search(query, n_response=n_response, course=course)\n",
    "\n",
    "import json\n",
    "\n",
    "print(json.dumps(response.body, indent=2))\n"
   ]
  },
  {
   "cell_type": "code",
   "execution_count": 16,
   "id": "f36f8373",
   "metadata": {},
   "outputs": [
    {
     "name": "stdout",
     "output_type": "stream",
     "text": [
      "How do I copy files from a different folder into docker container’s working directory?\n"
     ]
    }
   ],
   "source": [
    "print(response['hits']['hits'][-1]['_source']['question'])"
   ]
  },
  {
   "cell_type": "markdown",
   "id": "5a49376f",
   "metadata": {},
   "source": [
    "## Building a prompt"
   ]
  },
  {
   "cell_type": "code",
   "execution_count": 17,
   "id": "3f3299a4",
   "metadata": {},
   "outputs": [
    {
     "name": "stdout",
     "output_type": "stream",
     "text": [
      "[\n",
      "  {\n",
      "    \"_index\": \"course-questions\",\n",
      "    \"_id\": \"1NqOVZcBMUP3z-vrc3XN\",\n",
      "    \"_score\": 73.38676,\n",
      "    \"_source\": {\n",
      "      \"text\": \"Launch the container image in interactive mode and overriding the entrypoint, so that it starts a bash command.\\ndocker run -it --entrypoint bash <image>\\nIf the container is already running, execute a command in the specific container:\\ndocker ps (find the container-id)\\ndocker exec -it <container-id> bash\\n(Marcos MJD)\",\n",
      "      \"section\": \"5. Deploying Machine Learning Models\",\n",
      "      \"question\": \"How do I debug a docker container?\",\n",
      "      \"course\": \"machine-learning-zoomcamp\"\n",
      "    }\n",
      "  },\n",
      "  {\n",
      "    \"_index\": \"course-questions\",\n",
      "    \"_id\": \"89qOVZcBMUP3z-vrdHVJ\",\n",
      "    \"_score\": 66.688705,\n",
      "    \"_source\": {\n",
      "      \"text\": \"You can copy files from your local machine into a Docker container using the docker cp command. Here's how to do it:\\nTo copy a file or directory from your local machine into a running Docker container, you can use the `docker cp command`. The basic syntax is as follows:\\ndocker cp /path/to/local/file_or_directory container_id:/path/in/container\\nHrithik Kumar Advani\",\n",
      "      \"section\": \"5. Deploying Machine Learning Models\",\n",
      "      \"question\": \"How do I copy files from my local machine to docker container?\",\n",
      "      \"course\": \"machine-learning-zoomcamp\"\n",
      "    }\n",
      "  },\n",
      "  {\n",
      "    \"_index\": \"course-questions\",\n",
      "    \"_id\": \"9NqOVZcBMUP3z-vrdHVS\",\n",
      "    \"_score\": 59.812744,\n",
      "    \"_source\": {\n",
      "      \"text\": \"You can copy files from your local machine into a Docker container using the docker cp command. Here's how to do it:\\nIn the Dockerfile, you can provide the folder containing the files that you want to copy over. The basic syntax is as follows:\\nCOPY [\\\"src/predict.py\\\", \\\"models/xgb_model.bin\\\", \\\"./\\\"]\\t\\t\\t\\t\\t\\t\\t\\t\\t\\t\\tGopakumar Gopinathan\",\n",
      "      \"section\": \"5. Deploying Machine Learning Models\",\n",
      "      \"question\": \"How do I copy files from a different folder into docker container\\u2019s working directory?\",\n",
      "      \"course\": \"machine-learning-zoomcamp\"\n",
      "    }\n",
      "  }\n",
      "]\n"
     ]
    }
   ],
   "source": [
    "q4_responses = response['hits']['hits']\n",
    "\n",
    "print(json.dumps(q4_responses, indent=2))"
   ]
  },
  {
   "cell_type": "code",
   "execution_count": 27,
   "id": "1e9c0664",
   "metadata": {},
   "outputs": [],
   "source": [
    "context_template = \"\"\"\n",
    "Q: {question}\n",
    "A: {text}\n",
    "\"\"\".strip()"
   ]
  },
  {
   "cell_type": "code",
   "execution_count": 28,
   "id": "ab5287b3",
   "metadata": {},
   "outputs": [
    {
     "name": "stdout",
     "output_type": "stream",
     "text": [
      "Q: How do I debug a docker container?\n",
      "A: Launch the container image in interactive mode and overriding the entrypoint, so that it starts a bash command.\n",
      "docker run -it --entrypoint bash <image>\n",
      "If the container is already running, execute a command in the specific container:\n",
      "docker ps (find the container-id)\n",
      "docker exec -it <container-id> bash\n",
      "(Marcos MJD)\n",
      "\n",
      "Q: How do I copy files from my local machine to docker container?\n",
      "A: You can copy files from your local machine into a Docker container using the docker cp command. Here's how to do it:\n",
      "To copy a file or directory from your local machine into a running Docker container, you can use the `docker cp command`. The basic syntax is as follows:\n",
      "docker cp /path/to/local/file_or_directory container_id:/path/in/container\n",
      "Hrithik Kumar Advani\n",
      "\n",
      "Q: How do I copy files from a different folder into docker container’s working directory?\n",
      "A: You can copy files from your local machine into a Docker container using the docker cp command. Here's how to do it:\n",
      "In the Dockerfile, you can provide the folder containing the files that you want to copy over. The basic syntax is as follows:\n",
      "COPY [\"src/predict.py\", \"models/xgb_model.bin\", \"./\"]\t\t\t\t\t\t\t\t\t\t\tGopakumar Gopinathan\n"
     ]
    }
   ],
   "source": [
    "context = \"\\n\\n\".join([\n",
    "    context_template.format(\n",
    "        question=hit['_source']['question'],\n",
    "        text=hit['_source']['text']\n",
    "    )\n",
    "    for hit in q4_responses\n",
    "])\n",
    "\n",
    "print(context)"
   ]
  },
  {
   "cell_type": "code",
   "execution_count": 22,
   "id": "4c558565",
   "metadata": {},
   "outputs": [],
   "source": [
    "prompt_template = \"\"\"\n",
    "You're a course teaching assistant. Answer the QUESTION based on the CONTEXT from the FAQ database.\n",
    "Use only the facts from the CONTEXT when answering the QUESTION.\n",
    "\n",
    "QUESTION: {question}\n",
    "\n",
    "CONTEXT:\n",
    "{context}\n",
    "\"\"\".strip()"
   ]
  },
  {
   "cell_type": "code",
   "execution_count": 29,
   "id": "9301f55b",
   "metadata": {},
   "outputs": [
    {
     "name": "stdout",
     "output_type": "stream",
     "text": [
      "You're a course teaching assistant. Answer the QUESTION based on the CONTEXT from the FAQ database.\n",
      "Use only the facts from the CONTEXT when answering the QUESTION.\n",
      "\n",
      "QUESTION: How do copy a file to a Docker container?\n",
      "\n",
      "CONTEXT:\n",
      "Q: How do I debug a docker container?\n",
      "A: Launch the container image in interactive mode and overriding the entrypoint, so that it starts a bash command.\n",
      "docker run -it --entrypoint bash <image>\n",
      "If the container is already running, execute a command in the specific container:\n",
      "docker ps (find the container-id)\n",
      "docker exec -it <container-id> bash\n",
      "(Marcos MJD)\n",
      "\n",
      "Q: How do I copy files from my local machine to docker container?\n",
      "A: You can copy files from your local machine into a Docker container using the docker cp command. Here's how to do it:\n",
      "To copy a file or directory from your local machine into a running Docker container, you can use the `docker cp command`. The basic syntax is as follows:\n",
      "docker cp /path/to/local/file_or_directory container_id:/path/in/container\n",
      "Hrithik Kumar Advani\n",
      "\n",
      "Q: How do I copy files from a different folder into docker container’s working directory?\n",
      "A: You can copy files from your local machine into a Docker container using the docker cp command. Here's how to do it:\n",
      "In the Dockerfile, you can provide the folder containing the files that you want to copy over. The basic syntax is as follows:\n",
      "COPY [\"src/predict.py\", \"models/xgb_model.bin\", \"./\"]\t\t\t\t\t\t\t\t\t\t\tGopakumar Gopinathan\n"
     ]
    }
   ],
   "source": [
    "formatted_prompt = prompt_template.format(\n",
    "    question=query,\n",
    "    context=context\n",
    ")\n",
    "\n",
    "print(formatted_prompt)"
   ]
  },
  {
   "cell_type": "code",
   "execution_count": 31,
   "id": "8bc60e28",
   "metadata": {},
   "outputs": [
    {
     "name": "stdout",
     "output_type": "stream",
     "text": [
      "Length of formatted prompt: 1446\n"
     ]
    }
   ],
   "source": [
    "print(\"Length of formatted prompt:\", len(formatted_prompt))"
   ]
  },
  {
   "cell_type": "markdown",
   "id": "3aebb781",
   "metadata": {},
   "source": [
    "## Tokens"
   ]
  },
  {
   "cell_type": "code",
   "execution_count": null,
   "id": "fe6a82a4",
   "metadata": {},
   "outputs": [],
   "source": []
  }
 ],
 "metadata": {
  "kernelspec": {
   "display_name": "Python 3",
   "language": "python",
   "name": "python3"
  },
  "language_info": {
   "codemirror_mode": {
    "name": "ipython",
    "version": 3
   },
   "file_extension": ".py",
   "mimetype": "text/x-python",
   "name": "python",
   "nbconvert_exporter": "python",
   "pygments_lexer": "ipython3",
   "version": "3.12.1"
  }
 },
 "nbformat": 4,
 "nbformat_minor": 5
}
