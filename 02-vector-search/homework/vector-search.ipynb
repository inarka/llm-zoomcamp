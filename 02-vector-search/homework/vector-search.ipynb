{
 "cells": [
  {
   "cell_type": "markdown",
   "id": "21661ee6",
   "metadata": {},
   "source": [
    "## FastEmbed"
   ]
  },
  {
   "cell_type": "code",
   "execution_count": 1,
   "id": "454b48c6",
   "metadata": {},
   "outputs": [],
   "source": [
    "from fastembed import TextEmbedding"
   ]
  },
  {
   "cell_type": "code",
   "execution_count": 2,
   "id": "37c902fb",
   "metadata": {},
   "outputs": [
    {
     "data": {
      "application/vnd.jupyter.widget-view+json": {
       "model_id": "d9477bf8a0a943d0bbd946e4fd1846e6",
       "version_major": 2,
       "version_minor": 0
      },
      "text/plain": [
       "Fetching 5 files:   0%|          | 0/5 [00:00<?, ?it/s]"
      ]
     },
     "metadata": {},
     "output_type": "display_data"
    },
    {
     "data": {
      "application/vnd.jupyter.widget-view+json": {
       "model_id": "08d39ff26151445e87518563bd7c4d81",
       "version_major": 2,
       "version_minor": 0
      },
      "text/plain": [
       "config.json:   0%|          | 0.00/1.15k [00:00<?, ?B/s]"
      ]
     },
     "metadata": {},
     "output_type": "display_data"
    },
    {
     "data": {
      "application/vnd.jupyter.widget-view+json": {
       "model_id": "7b401385dafc4a599f13f7b580c3f76e",
       "version_major": 2,
       "version_minor": 0
      },
      "text/plain": [
       "tokenizer.json:   0%|          | 0.00/712k [00:00<?, ?B/s]"
      ]
     },
     "metadata": {},
     "output_type": "display_data"
    },
    {
     "data": {
      "application/vnd.jupyter.widget-view+json": {
       "model_id": "06a83ce4b4d24a21aa81078cdb544a4a",
       "version_major": 2,
       "version_minor": 0
      },
      "text/plain": [
       "tokenizer_config.json:   0%|          | 0.00/367 [00:00<?, ?B/s]"
      ]
     },
     "metadata": {},
     "output_type": "display_data"
    },
    {
     "data": {
      "application/vnd.jupyter.widget-view+json": {
       "model_id": "22430b62a2f64c64bb1ca071dd126fff",
       "version_major": 2,
       "version_minor": 0
      },
      "text/plain": [
       "onnx/model.onnx:   0%|          | 0.00/130M [00:00<?, ?B/s]"
      ]
     },
     "metadata": {},
     "output_type": "display_data"
    },
    {
     "data": {
      "application/vnd.jupyter.widget-view+json": {
       "model_id": "1b5e947b0a544c9e977956ddf4d571ac",
       "version_major": 2,
       "version_minor": 0
      },
      "text/plain": [
       "special_tokens_map.json:   0%|          | 0.00/125 [00:00<?, ?B/s]"
      ]
     },
     "metadata": {},
     "output_type": "display_data"
    }
   ],
   "source": [
    "embedding_model = TextEmbedding(model_name=\"jinaai/jina-embeddings-v2-small-en\")"
   ]
  },
  {
   "cell_type": "code",
   "execution_count": 3,
   "id": "fee5d166",
   "metadata": {},
   "outputs": [],
   "source": [
    "query = \"I just discovered the course. Can I join now?\""
   ]
  },
  {
   "cell_type": "code",
   "execution_count": 4,
   "id": "9a7702ec",
   "metadata": {},
   "outputs": [
    {
     "data": {
      "text/plain": [
       "512"
      ]
     },
     "execution_count": 4,
     "metadata": {},
     "output_type": "execute_result"
    }
   ],
   "source": [
    "query_embedding = list(embedding_model.embed(query))\n",
    "len(query_embedding[0])"
   ]
  },
  {
   "cell_type": "code",
   "execution_count": 5,
   "id": "a5aa826c",
   "metadata": {},
   "outputs": [
    {
     "data": {
      "text/plain": [
       "np.float64(-0.11726373885183883)"
      ]
     },
     "execution_count": 5,
     "metadata": {},
     "output_type": "execute_result"
    }
   ],
   "source": [
    "query_embedding[0].min()"
   ]
  },
  {
   "cell_type": "code",
   "execution_count": 6,
   "id": "c6db5379",
   "metadata": {},
   "outputs": [],
   "source": [
    "q_emb = query_embedding[0]"
   ]
  },
  {
   "cell_type": "markdown",
   "id": "ad0e78e9",
   "metadata": {},
   "source": [
    "## Cosine similarity"
   ]
  },
  {
   "cell_type": "code",
   "execution_count": 7,
   "id": "4b3222ec",
   "metadata": {},
   "outputs": [
    {
     "data": {
      "text/plain": [
       "np.float64(1.0)"
      ]
     },
     "execution_count": 7,
     "metadata": {},
     "output_type": "execute_result"
    }
   ],
   "source": [
    "import numpy as np\n",
    "np.linalg.norm(query_embedding[0])"
   ]
  },
  {
   "cell_type": "code",
   "execution_count": 8,
   "id": "cce1fed1",
   "metadata": {},
   "outputs": [],
   "source": [
    "doc = 'Can I still join the course after the start date?'"
   ]
  },
  {
   "cell_type": "code",
   "execution_count": 9,
   "id": "576df201",
   "metadata": {},
   "outputs": [],
   "source": [
    "doc_emb = list(embedding_model.embed(doc))[0]"
   ]
  },
  {
   "cell_type": "code",
   "execution_count": 10,
   "id": "e9f49135",
   "metadata": {},
   "outputs": [
    {
     "data": {
      "text/plain": [
       "np.float64(0.9008528895674548)"
      ]
     },
     "execution_count": 10,
     "metadata": {},
     "output_type": "execute_result"
    }
   ],
   "source": [
    "q_emb.dot(doc_emb)"
   ]
  },
  {
   "cell_type": "markdown",
   "id": "09b59440",
   "metadata": {},
   "source": [
    "## Ranking by cosine"
   ]
  },
  {
   "cell_type": "code",
   "execution_count": 11,
   "id": "b10d6111",
   "metadata": {},
   "outputs": [],
   "source": [
    "documents = [{'text': \"Yes, even if you don't register, you're still eligible to submit the homeworks.\\nBe aware, however, that there will be deadlines for turning in the final projects. So don't leave everything for the last minute.\",\n",
    "  'section': 'General course-related questions',\n",
    "  'question': 'Course - Can I still join the course after the start date?',\n",
    "  'course': 'data-engineering-zoomcamp'},\n",
    " {'text': 'Yes, we will keep all the materials after the course finishes, so you can follow the course at your own pace after it finishes.\\nYou can also continue looking at the homeworks and continue preparing for the next cohort. I guess you can also start working on your final capstone project.',\n",
    "  'section': 'General course-related questions',\n",
    "  'question': 'Course - Can I follow the course after it finishes?',\n",
    "  'course': 'data-engineering-zoomcamp'},\n",
    " {'text': \"The purpose of this document is to capture frequently asked technical questions\\nThe exact day and hour of the course will be 15th Jan 2024 at 17h00. The course will start with the first  “Office Hours'' live.1\\nSubscribe to course public Google Calendar (it works from Desktop only).\\nRegister before the course starts using this link.\\nJoin the course Telegram channel with announcements.\\nDon’t forget to register in DataTalks.Club's Slack and join the channel.\",\n",
    "  'section': 'General course-related questions',\n",
    "  'question': 'Course - When will the course start?',\n",
    "  'course': 'data-engineering-zoomcamp'},\n",
    " {'text': 'You can start by installing and setting up all the dependencies and requirements:\\nGoogle cloud account\\nGoogle Cloud SDK\\nPython 3 (installed with Anaconda)\\nTerraform\\nGit\\nLook over the prerequisites and syllabus to see if you are comfortable with these subjects.',\n",
    "  'section': 'General course-related questions',\n",
    "  'question': 'Course - What can I do before the course starts?',\n",
    "  'course': 'data-engineering-zoomcamp'},\n",
    " {'text': 'Star the repo! Share it with friends if you find it useful ❣️\\nCreate a PR if you see you can improve the text or the structure of the repository.',\n",
    "  'section': 'General course-related questions',\n",
    "  'question': 'How can we contribute to the course?',\n",
    "  'course': 'data-engineering-zoomcamp'}]"
   ]
  },
  {
   "cell_type": "code",
   "execution_count": 12,
   "id": "19b28cd7",
   "metadata": {},
   "outputs": [],
   "source": [
    "text_embeddings = list(embedding_model.embed([doc['text'] for doc in documents]))"
   ]
  },
  {
   "cell_type": "code",
   "execution_count": 13,
   "id": "72c0bc0e",
   "metadata": {},
   "outputs": [
    {
     "data": {
      "text/plain": [
       "[(1, np.float64(0.8182378156620136)),\n",
       " (2, np.float64(0.8085397445747489)),\n",
       " (0, np.float64(0.762968451872193)),\n",
       " (4, np.float64(0.7304499196411823)),\n",
       " (3, np.float64(0.7133078832064158))]"
      ]
     },
     "execution_count": 13,
     "metadata": {},
     "output_type": "execute_result"
    }
   ],
   "source": [
    "similarities = [(i, text_embedding.dot(q_emb)) for i, text_embedding in enumerate(text_embeddings)]\n",
    "similarities.sort(key=lambda x: x[1], reverse=True)\n",
    "similarities"
   ]
  },
  {
   "cell_type": "code",
   "execution_count": 14,
   "id": "22208cb8",
   "metadata": {},
   "outputs": [],
   "source": [
    "question_text_embeddings = list(embedding_model.embed([doc['question'] + ' ' + doc['text'] for doc in documents]))"
   ]
  },
  {
   "cell_type": "code",
   "execution_count": 15,
   "id": "5a82d9bb",
   "metadata": {},
   "outputs": [
    {
     "data": {
      "text/plain": [
       "[(0, np.float64(0.851454319443226)),\n",
       " (1, np.float64(0.8436594005975433)),\n",
       " (2, np.float64(0.8408287224005012)),\n",
       " (4, np.float64(0.8086007917931166)),\n",
       " (3, np.float64(0.7755157657626952))]"
      ]
     },
     "execution_count": 15,
     "metadata": {},
     "output_type": "execute_result"
    }
   ],
   "source": [
    "similarities = [(i, question_text_embedding.dot(q_emb)) for i, question_text_embedding in enumerate(question_text_embeddings)]\n",
    "similarities.sort(key=lambda x: x[1], reverse=True)\n",
    "similarities"
   ]
  },
  {
   "cell_type": "markdown",
   "id": "e823873c",
   "metadata": {},
   "source": [
    "## Choosing the embedding model"
   ]
  },
  {
   "cell_type": "code",
   "execution_count": 22,
   "id": "64e42772",
   "metadata": {},
   "outputs": [
    {
     "data": {
      "text/plain": [
       "[384, 512, 768, 1024]"
      ]
     },
     "execution_count": 22,
     "metadata": {},
     "output_type": "execute_result"
    }
   ],
   "source": [
    "model_size = set()\n",
    "\n",
    "for model in TextEmbedding.list_supported_models():\n",
    "    model_size.add(model['dim'])\n",
    "\n",
    "sorted(model_size)"
   ]
  },
  {
   "cell_type": "code",
   "execution_count": 36,
   "id": "01b5b062",
   "metadata": {},
   "outputs": [
    {
     "name": "stdout",
     "output_type": "stream",
     "text": [
      "BAAI/bge-small-en\n",
      "BAAI/bge-small-en-v1.5\n",
      "snowflake/snowflake-arctic-embed-xs\n",
      "snowflake/snowflake-arctic-embed-s\n",
      "sentence-transformers/all-MiniLM-L6-v2\n",
      "sentence-transformers/paraphrase-multilingual-MiniLM-L12-v2\n"
     ]
    }
   ],
   "source": [
    "for model in TextEmbedding.list_supported_models():\n",
    "    if model['dim'] == 384:\n",
    "        print(model['model'])"
   ]
  },
  {
   "cell_type": "code",
   "execution_count": 24,
   "id": "fdc496f0",
   "metadata": {},
   "outputs": [],
   "source": [
    "model_name = 'BAAI/bge-small-en'"
   ]
  },
  {
   "cell_type": "markdown",
   "id": "10a49d5b",
   "metadata": {},
   "source": [
    "## Indexing with qdrant"
   ]
  },
  {
   "cell_type": "code",
   "execution_count": 23,
   "id": "0b333762",
   "metadata": {},
   "outputs": [],
   "source": [
    "import requests \n",
    "\n",
    "docs_url = 'https://github.com/alexeygrigorev/llm-rag-workshop/raw/main/notebooks/documents.json'\n",
    "docs_response = requests.get(docs_url)\n",
    "documents_raw = docs_response.json()\n",
    "\n",
    "\n",
    "documents = []\n",
    "\n",
    "for course in documents_raw:\n",
    "    course_name = course['course']\n",
    "    if course_name != 'machine-learning-zoomcamp':\n",
    "        continue\n",
    "\n",
    "    for doc in course['documents']:\n",
    "        doc['course'] = course_name\n",
    "        documents.append(doc)"
   ]
  },
  {
   "cell_type": "code",
   "execution_count": 25,
   "id": "33c14752",
   "metadata": {},
   "outputs": [],
   "source": [
    "from qdrant_client import QdrantClient, models"
   ]
  },
  {
   "cell_type": "code",
   "execution_count": 26,
   "id": "c506fdb4",
   "metadata": {},
   "outputs": [],
   "source": [
    "client = QdrantClient(\"http://localhost:6333\")"
   ]
  },
  {
   "cell_type": "code",
   "execution_count": 27,
   "id": "9075b8aa",
   "metadata": {},
   "outputs": [],
   "source": [
    "collection_name = 'homework-2'"
   ]
  },
  {
   "cell_type": "code",
   "execution_count": null,
   "id": "a21c851b",
   "metadata": {},
   "outputs": [
    {
     "data": {
      "application/vnd.jupyter.widget-view+json": {
       "model_id": "03168b4aa20740f68e95df9726ef7f34",
       "version_major": 2,
       "version_minor": 0
      },
      "text/plain": [
       "Fetching 5 files:   0%|          | 0/5 [00:00<?, ?it/s]"
      ]
     },
     "metadata": {},
     "output_type": "display_data"
    },
    {
     "data": {
      "application/vnd.jupyter.widget-view+json": {
       "model_id": "08a9a349e3674a8d9a8c8a05092aba0e",
       "version_major": 2,
       "version_minor": 0
      },
      "text/plain": [
       "model_optimized.onnx:   0%|          | 0.00/133M [00:00<?, ?B/s]"
      ]
     },
     "metadata": {},
     "output_type": "display_data"
    },
    {
     "data": {
      "application/vnd.jupyter.widget-view+json": {
       "model_id": "e948af13daa2458e81a59db87645357e",
       "version_major": 2,
       "version_minor": 0
      },
      "text/plain": [
       "tokenizer.json:   0%|          | 0.00/711k [00:00<?, ?B/s]"
      ]
     },
     "metadata": {},
     "output_type": "display_data"
    },
    {
     "data": {
      "application/vnd.jupyter.widget-view+json": {
       "model_id": "562beb3cf0944a3b9c95439a30b35fcd",
       "version_major": 2,
       "version_minor": 0
      },
      "text/plain": [
       "config.json:   0%|          | 0.00/701 [00:00<?, ?B/s]"
      ]
     },
     "metadata": {},
     "output_type": "display_data"
    },
    {
     "data": {
      "application/vnd.jupyter.widget-view+json": {
       "model_id": "3a6a85ef31b24a589837de8a40ee8e55",
       "version_major": 2,
       "version_minor": 0
      },
      "text/plain": [
       "special_tokens_map.json:   0%|          | 0.00/125 [00:00<?, ?B/s]"
      ]
     },
     "metadata": {},
     "output_type": "display_data"
    },
    {
     "data": {
      "application/vnd.jupyter.widget-view+json": {
       "model_id": "b23c8e5b956a431ea6ea1b9bdf837be7",
       "version_major": 2,
       "version_minor": 0
      },
      "text/plain": [
       "tokenizer_config.json:   0%|          | 0.00/366 [00:00<?, ?B/s]"
      ]
     },
     "metadata": {},
     "output_type": "display_data"
    }
   ],
   "source": [
    "if not client.collection_exists(collection_name):\n",
    "    client.create_collection(\n",
    "        collection_name=collection_name,\n",
    "        vectors_config=\n",
    "            models.VectorParams(\n",
    "                size=384,\n",
    "                distance=models.Distance.COSINE,\n",
    "            )\n",
    "    )\n",
    "\n",
    "    client.upsert(\n",
    "        collection_name=collection_name,\n",
    "        points=[\n",
    "            models.PointStruct(\n",
    "                id=idx,\n",
    "                vector=models.Document(\n",
    "                        text=doc['question'] + ' ' + doc['text'],\n",
    "                        model=model_name,\n",
    "                    ),\n",
    "                payload={\n",
    "                    \"text\": doc['text'],\n",
    "                    \"question\": doc['question'],\n",
    "                    \"course\": doc['course'],\n",
    "                }\n",
    "            )\n",
    "            for idx, doc in enumerate(documents)\n",
    "        ]\n",
    "    )"
   ]
  },
  {
   "cell_type": "code",
   "execution_count": 30,
   "id": "02df2eec",
   "metadata": {},
   "outputs": [],
   "source": [
    "def search(query, limit=1):\n",
    "\n",
    "    results = client.query_points(\n",
    "        collection_name=collection_name,\n",
    "        query=models.Document(\n",
    "            text=query,\n",
    "            model=model_name \n",
    "        ),\n",
    "        limit=limit, # top closest matches\n",
    "        with_payload=True #to get metadata in the results\n",
    "    )\n",
    "\n",
    "    return results"
   ]
  },
  {
   "cell_type": "code",
   "execution_count": 33,
   "id": "d4979b5f",
   "metadata": {},
   "outputs": [
    {
     "data": {
      "text/plain": [
       "[ScoredPoint(id=14, version=0, score=0.87031734, payload={'text': 'Yes, you can. You won’t be able to submit some of the homeworks, but you can still take part in the course.\\nIn order to get a certificate, you need to submit 2 out of 3 course projects and review 3 peers’ Projects by the deadline. It means that if you join the course at the end of November and manage to work on two projects, you will still be eligible for a certificate.', 'question': 'The course has already started. Can I still join it?', 'course': 'machine-learning-zoomcamp'}, vector=None, shard_key=None, order_value=None)]"
      ]
     },
     "execution_count": 33,
     "metadata": {},
     "output_type": "execute_result"
    }
   ],
   "source": [
    "search(query).points"
   ]
  }
 ],
 "metadata": {
  "kernelspec": {
   "display_name": "Python 3",
   "language": "python",
   "name": "python3"
  },
  "language_info": {
   "codemirror_mode": {
    "name": "ipython",
    "version": 3
   },
   "file_extension": ".py",
   "mimetype": "text/x-python",
   "name": "python",
   "nbconvert_exporter": "python",
   "pygments_lexer": "ipython3",
   "version": "3.12.1"
  }
 },
 "nbformat": 4,
 "nbformat_minor": 5
}
