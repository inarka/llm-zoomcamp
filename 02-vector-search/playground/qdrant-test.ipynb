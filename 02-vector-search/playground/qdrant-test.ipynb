{
 "cells": [
  {
   "cell_type": "markdown",
   "id": "64bb46db",
   "metadata": {},
   "source": [
    "## Saving AG news  dataset"
   ]
  },
  {
   "cell_type": "code",
   "execution_count": 54,
   "id": "79d61d49",
   "metadata": {},
   "outputs": [],
   "source": [
    "import pandas as pd\n",
    "from datasets import load_dataset"
   ]
  },
  {
   "cell_type": "code",
   "execution_count": 55,
   "id": "9f751f78",
   "metadata": {},
   "outputs": [],
   "source": [
    "news_data = load_dataset(\"ag_news\", split=\"train\")"
   ]
  },
  {
   "cell_type": "code",
   "execution_count": 56,
   "id": "0c94835c",
   "metadata": {},
   "outputs": [],
   "source": [
    "sample_data = news_data.shuffle(seed=42).select(range(2000))"
   ]
  },
  {
   "cell_type": "code",
   "execution_count": 57,
   "id": "9a090a6b",
   "metadata": {},
   "outputs": [],
   "source": [
    "news_df = pd.DataFrame(sample_data)"
   ]
  },
  {
   "cell_type": "code",
   "execution_count": 58,
   "id": "ff12068c",
   "metadata": {},
   "outputs": [
    {
     "data": {
      "text/plain": [
       "label\n",
       "3    522\n",
       "0    509\n",
       "1    508\n",
       "2    461\n",
       "Name: count, dtype: int64"
      ]
     },
     "execution_count": 58,
     "metadata": {},
     "output_type": "execute_result"
    }
   ],
   "source": [
    "news_df['label'].value_counts()"
   ]
  },
  {
   "cell_type": "code",
   "execution_count": 59,
   "id": "c2f12559",
   "metadata": {},
   "outputs": [],
   "source": [
    "label_map = {\n",
    "    0: \"World\",\n",
    "    1: \"Sports\",\n",
    "    2: \"Business\",\n",
    "    3: \"Sci/Tech\"\n",
    "}"
   ]
  },
  {
   "cell_type": "markdown",
   "id": "8620336a",
   "metadata": {},
   "source": [
    "## Create Qdrant collection"
   ]
  },
  {
   "cell_type": "code",
   "execution_count": 60,
   "id": "63ed5fc0",
   "metadata": {},
   "outputs": [],
   "source": [
    "from qdrant_client import QdrantClient, models"
   ]
  },
  {
   "cell_type": "code",
   "execution_count": 61,
   "id": "533d03c1",
   "metadata": {},
   "outputs": [],
   "source": [
    "client = QdrantClient(\"http://localhost:6333\")"
   ]
  },
  {
   "cell_type": "code",
   "execution_count": 62,
   "id": "5d76513a",
   "metadata": {},
   "outputs": [
    {
     "name": "stdout",
     "output_type": "stream",
     "text": [
      "Supported dimensions: [384, 512, 768, 1024]\n"
     ]
    }
   ],
   "source": [
    "from fastembed import TextEmbedding\n",
    "\n",
    "dimensions = set()\n",
    "\n",
    "for model in TextEmbedding.list_supported_models():\n",
    "    dimensions.add(model['dim'])\n",
    "\n",
    "print(f\"Supported dimensions: {sorted(dimensions)}\")"
   ]
  },
  {
   "cell_type": "code",
   "execution_count": 63,
   "id": "ae4f42ed",
   "metadata": {},
   "outputs": [
    {
     "name": "stdout",
     "output_type": "stream",
     "text": [
      "Found suitable model: Qdrant/clip-ViT-B-32-text : Text embeddings, Multimodal (text&image), English, 77 input tokens truncation, Prefixes for queries/documents: not necessary, 2021 year\n",
      "Found suitable model: jinaai/jina-embeddings-v2-small-en : Text embeddings, Unimodal (text), English, 8192 input tokens truncation, Prefixes for queries/documents: not necessary, 2023 year.\n"
     ]
    }
   ],
   "source": [
    "for model in TextEmbedding.list_supported_models():\n",
    "    if model['dim'] == 512 and \"Text embeddings\" in model['description'] and \"English\" in model['description']:\n",
    "        print(f\"Found suitable model: {model['model']} : {model['description']}\")"
   ]
  },
  {
   "cell_type": "code",
   "execution_count": 64,
   "id": "3344297c",
   "metadata": {},
   "outputs": [],
   "source": [
    "embedding_model = 'jinaai/jina-embeddings-v2-small-en'"
   ]
  },
  {
   "cell_type": "code",
   "execution_count": 66,
   "id": "26016110",
   "metadata": {},
   "outputs": [
    {
     "name": "stderr",
     "output_type": "stream",
     "text": [
      "/tmp/ipykernel_2649/1994123044.py:3: DeprecationWarning: `recreate_collection` method is deprecated and will be removed in the future. Use `collection_exists` to check collection existence and `create_collection` instead.\n",
      "  client.recreate_collection(\n"
     ]
    },
    {
     "data": {
      "text/plain": [
       "True"
      ]
     },
     "execution_count": 66,
     "metadata": {},
     "output_type": "execute_result"
    }
   ],
   "source": [
    "collection_name_news = \"ag_news\"\n",
    "\n",
    "client.recreate_collection(\n",
    "    collection_name=collection_name_news,\n",
    "    vectors_config=models.VectorParams(\n",
    "        size=512,  \n",
    "        distance=models.Distance.COSINE  \n",
    "    )\n",
    ")"
   ]
  },
  {
   "cell_type": "markdown",
   "id": "1c3adab8",
   "metadata": {},
   "source": [
    "## Inserting questions to vector db"
   ]
  },
  {
   "cell_type": "code",
   "execution_count": 67,
   "id": "7a045313",
   "metadata": {},
   "outputs": [],
   "source": [
    "points = []\n",
    "id = 0\n",
    "\n",
    "for _, news in news_df.iterrows():\n",
    "\n",
    "    point = models.PointStruct(\n",
    "        id=id,\n",
    "        vector=models.Document(text=news['text'], model=embedding_model),\n",
    "        payload={\n",
    "            \"news\" : news['text'],\n",
    "            \"label\": label_map[news['label']]\n",
    "        }\n",
    "    )\n",
    "    points.append(point)\n",
    "\n",
    "    id += 1"
   ]
  },
  {
   "cell_type": "code",
   "execution_count": 68,
   "id": "8c5c1375",
   "metadata": {},
   "outputs": [
    {
     "data": {
      "text/plain": [
       "UpdateResult(operation_id=0, status=<UpdateStatus.COMPLETED: 'completed'>)"
      ]
     },
     "execution_count": 68,
     "metadata": {},
     "output_type": "execute_result"
    }
   ],
   "source": [
    "client.upsert(\n",
    "    collection_name=collection_name_news,\n",
    "    points=points\n",
    ")"
   ]
  },
  {
   "cell_type": "markdown",
   "id": "fc860775",
   "metadata": {},
   "source": [
    "Qdrant visualization parameters:\n",
    "{\n",
    "  \"limit\" : 1000,\n",
    "  \"color_by\": {\n",
    "    \"payload\": \"label\"\n",
    "  }\n",
    "}"
   ]
  }
 ],
 "metadata": {
  "kernelspec": {
   "display_name": "Python 3",
   "language": "python",
   "name": "python3"
  },
  "language_info": {
   "codemirror_mode": {
    "name": "ipython",
    "version": 3
   },
   "file_extension": ".py",
   "mimetype": "text/x-python",
   "name": "python",
   "nbconvert_exporter": "python",
   "pygments_lexer": "ipython3",
   "version": "3.12.1"
  }
 },
 "nbformat": 4,
 "nbformat_minor": 5
}
